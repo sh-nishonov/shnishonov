{
 "cells": [
  {
   "cell_type": "markdown",
   "id": "5476f357",
   "metadata": {},
   "source": [
    "# \"Linear Regression\"\n",
    "> \"All you need to know about linear regression\"\n",
    "\n",
    "- toc: true\n",
    "- branch: master\n",
    "- comments: true\n",
    "- author: Shohjahon Nishonov\n",
    "- categories: [machine learning]\n",
    "- image: ../images/linear_regression.png\n",
    "- permalink: /linear-regression/\n",
    "- hide: true"
   ]
  },
  {
   "cell_type": "markdown",
   "id": "a765f605",
   "metadata": {},
   "source": [
    "# Multiple Linear Regression"
   ]
  },
  {
   "cell_type": "markdown",
   "id": "fc273c17",
   "metadata": {},
   "source": [
    "Multiple Linear Regression takes the form:\n",
    "$$Y = \\beta_0 + \\beta_1X_1+\\beta_2X_2 + \\cdots\\ + \\beta_pX_p + \\epsilon$$"
   ]
  },
  {
   "cell_type": "markdown",
   "id": "0b3d75a8",
   "metadata": {},
   "source": [
    "# Estimating the regression coefficients\n"
   ]
  },
  {
   "cell_type": "markdown",
   "id": "e100024d",
   "metadata": {},
   "source": [
    "In order to find $\\beta_0, \\beta_1,...,\\beta_p$ we need to minimize the sum of squared residuals\n",
    "$$RSS = \\sum_{i=1}^n (y_i-\\hat{y_i})^2$$"
   ]
  },
  {
   "cell_type": "code",
   "execution_count": null,
   "id": "60751cb9",
   "metadata": {},
   "outputs": [],
   "source": []
  }
 ],
 "metadata": {
  "kernelspec": {
   "display_name": "Python 3 (ipykernel)",
   "language": "python",
   "name": "python3"
  },
  "language_info": {
   "codemirror_mode": {
    "name": "ipython",
    "version": 3
   },
   "file_extension": ".py",
   "mimetype": "text/x-python",
   "name": "python",
   "nbconvert_exporter": "python",
   "pygments_lexer": "ipython3",
   "version": "3.9.5"
  }
 },
 "nbformat": 4,
 "nbformat_minor": 5
}
