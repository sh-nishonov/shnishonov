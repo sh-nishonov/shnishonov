{
 "cells": [
  {
   "cell_type": "markdown",
   "id": "2905de0a",
   "metadata": {},
   "source": [
    "# \"Linear Regression\"\n",
    "> \"All you need to know about linear regression\"\n",
    "\n",
    "- toc: true\n",
    "- branch: master\n",
    "- comments: true\n",
    "- author: Shohjahon Nishonov\n",
    "- categories: [machine learning]\n",
    "- image: ../images/linear_regression.png\n",
    "- permalink: /linear-regression/\n",
    "- hide: true"
   ]
  }
 ],
 "metadata": {
  "kernelspec": {
   "display_name": "Python 3 (ipykernel)",
   "language": "python",
   "name": "python3"
  },
  "language_info": {
   "codemirror_mode": {
    "name": "ipython",
    "version": 3
   },
   "file_extension": ".py",
   "mimetype": "text/x-python",
   "name": "python",
   "nbconvert_exporter": "python",
   "pygments_lexer": "ipython3",
   "version": "3.9.5"
  }
 },
 "nbformat": 4,
 "nbformat_minor": 5
}
