{
 "cells": [
  {
   "cell_type": "markdown",
   "id": "e2b77abb-1d8a-44bb-b12e-b899afcc3df7",
   "metadata": {},
   "source": [
    "# Image Classification with Vision Transformers"
   ]
  },
  {
   "cell_type": "markdown",
   "id": "b354257b-ed53-4157-9a66-0a7888aa5127",
   "metadata": {},
   "source": [
    "- toc: true\n",
    "- branch: master\n",
    "- comments: true\n",
    "- author: Shohjahon Nishonov\n",
    "- categories: [Deep Learning, Computer Vision, Transformers]\n",
    "- image: ../images/vit.jpeg\n",
    "- permalink: /vit/\n",
    "- hide: true"
   ]
  },
  {
   "cell_type": "markdown",
   "id": "f2acb7ce-2c4e-4555-a055-5fc9b22aceaf",
   "metadata": {},
   "source": [
    "It is a fact that Convolutional Neural Networks(CNN) have been dominant in Copmuter Vision tasks. However, [ViT - AN IMAGE IS WORTH 16X16 WORDS: TRANSFORMERS FOR IMAGE RECOGNITION AT SCALE](https://arxiv.org/abs/2010.11929 \"\") paper showed great results compared to SOTA models. Here, we will dive deep enough to understand the Transformers architecure and apply the model to some practical tasks."
   ]
  }
 ],
 "metadata": {
  "kernelspec": {
   "display_name": "Python 3 (ipykernel)",
   "language": "python",
   "name": "python3"
  },
  "language_info": {
   "codemirror_mode": {
    "name": "ipython",
    "version": 3
   },
   "file_extension": ".py",
   "mimetype": "text/x-python",
   "name": "python",
   "nbconvert_exporter": "python",
   "pygments_lexer": "ipython3",
   "version": "3.9.5"
  }
 },
 "nbformat": 4,
 "nbformat_minor": 5
}
