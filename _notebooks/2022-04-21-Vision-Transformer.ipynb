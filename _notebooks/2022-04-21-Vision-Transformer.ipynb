{
 "cells": [
  {
   "cell_type": "markdown",
   "id": "295ca9e5-da88-4149-9e14-887b7c9ffb28",
   "metadata": {},
   "source": [
    "# Image Classification with Vision Transformers\n",
    "\n",
    "- toc: true\n",
    "- branch: master\n",
    "- comments: true\n",
    "- author: Shohjahon Nishonov\n",
    "- categories: [Deep Learning, Computer Vision, Transformers]\n",
    "- image: images/vit.jpeg\n",
    "- hide: false"
   ]
  },
  {
   "cell_type": "markdown",
   "id": "f2acb7ce-2c4e-4555-a055-5fc9b22aceaf",
   "metadata": {},
   "source": [
    "# Introduction\n",
    "It is a fact that Convolutional Neural Networks(CNN) have been dominant in Copmuter Vision tasks. However, [ViT - AN IMAGE IS WORTH 16X16 WORDS: TRANSFORMERS FOR IMAGE RECOGNITION AT SCALE](https://arxiv.org/abs/2010.11929 \"\") paper showed great results compared to SotA models. Here, we will dive deep enough to understand the Transformers architecure and apply the model to some practical tasks."
   ]
  },
  {
   "cell_type": "markdown",
   "id": "99d9899c-375e-454e-84da-e11d8e9f1a4d",
   "metadata": {},
   "source": [
    "{cite}'voita2020nlpCourse'"
   ]
  },
  {
   "cell_type": "markdown",
   "id": "608c3b01-bd60-4a7e-8f51-dc71d18f4a1f",
   "metadata": {},
   "source": [
    "# Encoder-Decoder Framework Basics\n",
    "Encoder-decoder framework is used for sequence-to-sequence tasks, for example, machine translation.\n"
   ]
  },
  {
   "cell_type": "markdown",
   "id": "479203ca-6af9-4849-80e7-e1b4c5ec2dd9",
   "metadata": {},
   "source": [
    "![alt text](../images/encoder-decoder.jpg \"Encoder-Decoder\")"
   ]
  },
  {
   "cell_type": "markdown",
   "id": "e54f3504-475d-4506-afc3-1a2e63c4b228",
   "metadata": {},
   "source": [
    "The simplest model consists of two RNNs: one for the encoder and another for the decoder. Encoder reads the source sentence and produces a context vector where all the information about the source sentence is encoded. Then, decoder reads the context vector and generates output sentence based on this vector. The problem with such a model is that encoder tries to compress the whole source sentence into a fixed size vector. This can be hard, especially with long text inputs. It cannot put all information into a single vector without loosing some meaning."
   ]
  },
  {
   "cell_type": "markdown",
   "id": "703564aa-f6b4-49a9-99f1-4774701dbe91",
   "metadata": {},
   "source": [
    "> Note: Imagine explaining a topic with few words. Only hope is the other person understands it as you want."
   ]
  },
  {
   "cell_type": "markdown",
   "id": "baf8a8a0-4a63-4293-80ee-ffa021159a99",
   "metadata": {},
   "source": [
    "# Attention"
   ]
  },
  {
   "cell_type": "markdown",
   "id": "cf9e5622-18f3-46fc-a6f9-740f3367c7e1",
   "metadata": {},
   "source": [
    "Attention was introduced to overcome the shortcomings of the fixed vector representation problem. At each decoder step, it decides which source parts are more important. The encoder does not compress the whole input into a single vector - it gives context for all input tokens."
   ]
  },
  {
   "cell_type": "markdown",
   "id": "90d10591-bf3b-4015-b9aa-b8825a9f3143",
   "metadata": {},
   "source": [
    "![Attention](../images/general_scheme-min.png \"\")"
   ]
  },
  {
   "cell_type": "markdown",
   "id": "e0fde884-cf8c-4a51-84f8-4a33ed26f8d5",
   "metadata": {},
   "source": [
    "1. Attention mechanism takes all encoder states and one decoder state as input\n",
    "2. Gives a score to the input (computes weights)\n",
    "3. Output from 2 are normalized using softmax function.\n",
    "4. Outputs weighted sum."
   ]
  },
  {
   "cell_type": "markdown",
   "id": "d1b38382-fbe6-40e4-822c-b34633450227",
   "metadata": {},
   "source": [
    "![](../images/attention.jpg \"Title\")"
   ]
  },
  {
   "cell_type": "markdown",
   "id": "716e0d73-c8f8-4e87-9974-f7fdfafc3c75",
   "metadata": {},
   "source": [
    "But, how the score is calculated?\n",
    "The simplest method is dot product of encoder states and a decoder state. Other methods are bilinear function and multi-layer perceptron which was proposed in the original paper. The main purpose of calculating the score is identifying similarity between the current input and all other inputs."
   ]
  },
  {
   "cell_type": "markdown",
   "id": "9030cc99-fa29-45a4-bc57-d8d63a5aa4c5",
   "metadata": {},
   "source": [
    "# Transformer"
   ]
  },
  {
   "cell_type": "markdown",
   "id": "b7a0512d-6c71-483d-a036-9eb30b9fb6c2",
   "metadata": {},
   "source": [
    "Transformer model was introduced in the paper [Attention is All You Need](https://papers.nips.cc/paper/7181-attention-is-all-you-need.pdf \"\") in 2017. It uses only attention mechanisms: without RNN or CNN. It has become a go to model for not only sequence-to-sequence tasks but also for other tasks.\n",
    "Let me show you a demonstration of Transformer from [Google AI blog post](https://ai.googleblog.com/2017/08/transformer-novel-neural-network.html \"\")."
   ]
  },
  {
   "cell_type": "markdown",
   "id": "e54b2676-3cda-45c9-bb31-75fe1c24cc05",
   "metadata": {},
   "source": [
    "![](../images/transformer_original.gif \"Transformer\")"
   ]
  },
  {
   "cell_type": "markdown",
   "id": "0e6ac775-bd51-447b-897a-e70b29bf7b54",
   "metadata": {},
   "source": [
    "Let's take the sentence \"The bank of the river.\" as an example. The word \"bank\" might confuse RNN as it processes the sentence sequentially and does not know whether the \"bank\" represents financial institution or the edge of the river untill the model reaches the end of the sentence. Unlike RNN, Transformer knows the context without reading the whole sentence as it's encoder tokens interact each other and give context to the words. In the above example, it is clear that at each step tokens exchange information and try to understand each other better."
   ]
  },
  {
   "cell_type": "markdown",
   "id": "e93a01e6-a962-4280-ba4b-137f6e4dd26d",
   "metadata": {},
   "source": [
    "The main part of the model is self-attention mechanism. The difference between self-attention and simplified attention is the prior has trainable weights.\n",
    "\n",
    "$$query = W^qx_i\\newline\n",
    "key = W^kx_i\\newline\n",
    "value = W^vx_i$$"
   ]
  },
  {
   "cell_type": "markdown",
   "id": "1d3577e4-bcf4-4b8d-86b4-bbb06ad11a8d",
   "metadata": {},
   "source": [
    "![](../images/self-att.png \"Self Attention\")\n",
    "> Image from https://sebastianraschka.com/pdf/lecture-notes/stat453ss21/L19_seq2seq_rnn-transformers__slides.pdf"
   ]
  },
  {
   "cell_type": "markdown",
   "id": "df1666ae-74c0-4cab-974f-adc969d07f0e",
   "metadata": {},
   "source": [
    "As shown in the example above, we calculate query, key and value for every input token. Output of self-attention is calculated like simplified attention with slight differences:\n",
    "\n",
    "$$Attention(q,k,v) = softmax(score)v\\newline$$\n",
    "Here\n",
    "$$score = \\frac{qk^T}{\\sqrt{d_k}}$$"
   ]
  },
  {
   "cell_type": "markdown",
   "id": "436461c2-b0a3-4857-8fbd-85db0ae80fa1",
   "metadata": {},
   "source": [
    "The reason why we are using scaled dot-product in attention score is to ensure that the dot-products between query and key do not grow too large for large $d_k$."
   ]
  },
  {
   "cell_type": "code",
   "execution_count": null,
   "id": "390c6b79-99bf-4efc-b288-0a67ef360267",
   "metadata": {},
   "outputs": [],
   "source": []
  }
 ],
 "metadata": {
  "kernelspec": {
   "display_name": "Python 3 (ipykernel)",
   "language": "python",
   "name": "python3"
  },
  "language_info": {
   "codemirror_mode": {
    "name": "ipython",
    "version": 3
   },
   "file_extension": ".py",
   "mimetype": "text/x-python",
   "name": "python",
   "nbconvert_exporter": "python",
   "pygments_lexer": "ipython3",
   "version": "3.9.5"
  }
 },
 "nbformat": 4,
 "nbformat_minor": 5
}
