{
 "metadata": {
  "language_info": {
   "codemirror_mode": {
    "name": "ipython",
    "version": 3
   },
   "file_extension": ".py",
   "mimetype": "text/x-python",
   "name": "python",
   "nbconvert_exporter": "python",
   "pygments_lexer": "ipython3",
   "version": "3.8.5"
  },
  "orig_nbformat": 2,
  "kernelspec": {
   "name": "python385jvsc74a57bd0a803ca913d9b19ecbc0e861e9edb32e71715cc2e5dab7a095b4146e6a7bb7402",
   "display_name": "Python 3.8.5 64-bit ('web': conda)"
  },
  "metadata": {
   "interpreter": {
    "hash": "a803ca913d9b19ecbc0e861e9edb32e71715cc2e5dab7a095b4146e6a7bb7402"
   }
  }
 },
 "nbformat": 4,
 "nbformat_minor": 2,
 "cells": [
  {
   "source": [
    "# Start of a long trip\n",
    "> I see my path, but I don’t know where it leads. Not knowing where I am going is what inspires me to travel it.<br />\n",
    "Rosalía de Castro\n",
    "\n",
    "- toc: false\n",
    "- branch: master\n",
    "- badges: false\n",
    "- comments: true\n",
    "- image: images/first-post.jpg\n"
   ],
   "cell_type": "markdown",
   "metadata": {}
  },
  {
   "source": [
    "## Who I am? What this blog will be about?\n",
    "\n",
    "My name is Shohjahon. I got my BS degree in Computer Science and Engineering in 2020 from [Inha University in Tashkent](https://inha.uz/).\n",
    "This blog is my way to learn new things and teach others what I have learnt. By writing about **machine learning** and **deep learning**, I am also willing to deepen my knowledge on it.\n",
    "This blog is all about practical side of machine learning. I will share end-to-end pipeline of making ML models. I may write about theoretical part in future."
   ],
   "cell_type": "markdown",
   "metadata": {}
  },
  {
   "source": [
    "## What we will cover in this blog?\n",
    "Mainly, I will share my knowledge on building models, deploying models and some useful stuff about Kaggle competitions in which I participate or find interesting. Each material will be clearly explained, for sure.\n",
    "My primary interest is *Computer Vision* and *Natural Language Processing*. Most posts will be on these topics, but I will write about other areas of Machine Learning too."
   ],
   "cell_type": "markdown",
   "metadata": {}
  },
  {
   "source": [
    "## To say the least...\n",
    "I am at the beginning of my road, whatever it means :smile:, I do not know where the road leads, but we will figure it out soon. "
   ],
   "cell_type": "markdown",
   "metadata": {}
  }
 ]
}